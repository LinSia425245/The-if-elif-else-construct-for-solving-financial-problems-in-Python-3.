{
  "nbformat": 4,
  "nbformat_minor": 0,
  "metadata": {
    "colab": {
      "provenance": [],
      "name": "Конструкция if – elif – else в решении финансовых задач на Python 3.ipynb",
      "authorship_tag": "ABX9TyO8mv7tVl1yFrvF28PSCwSk",
      "include_colab_link": true
    },
    "kernelspec": {
      "name": "python3",
      "display_name": "Python 3"
    },
    "language_info": {
      "name": "python"
    }
  },
  "cells": [
    {
      "cell_type": "markdown",
      "metadata": {
        "id": "view-in-github",
        "colab_type": "text"
      },
      "source": [
        "<a href=\"https://colab.research.google.com/github/LinSia425245/The-if-elif-else-construct-for-solving-financial-problems-in-Python-3./blob/main/%D0%9A%D0%BE%D0%BD%D1%81%D1%82%D1%80%D1%83%D0%BA%D1%86%D0%B8%D1%8F_if_%E2%80%93_elif_%E2%80%93_else_%D0%B2_%D1%80%D0%B5%D1%88%D0%B5%D0%BD%D0%B8%D0%B8_%D1%84%D0%B8%D0%BD%D0%B0%D0%BD%D1%81%D0%BE%D0%B2%D1%8B%D1%85_%D0%B7%D0%B0%D0%B4%D0%B0%D1%87_%D0%BD%D0%B0_Python_3.ipynb\" target=\"_parent\"><img src=\"https://colab.research.google.com/assets/colab-badge.svg\" alt=\"Open In Colab\"/></a>"
      ]
    },
    {
      "cell_type": "markdown",
      "source": [
        "# **1. Рассчитайте процентную ставку для вклада в зависимости от суммы и срока вклада** [**Диаграмма**](https://drive.google.com/file/d/127_0YHTckAuqEUFdOwhdIxR512gEAHY3/view?usp=sharing)"
      ],
      "metadata": {
        "id": "H4BQW9JlC2oc"
      }
    },
    {
      "cell_type": "code",
      "source": [
        "amount = int(input(\"Введите сумму вклада: \"))\n",
        "term = int(input(\"Введите срок вклада в месяцах: \"))\n",
        "\n",
        "if amount < 10000 and term < 12:\n",
        "    rate = 0.05\n",
        "elif amount < 10000 and term >= 12:\n",
        "    rate = 0.06\n",
        "elif amount >= 10000 and term < 12:\n",
        "    rate = 0.07\n",
        "else:\n",
        "    rate = 0.08\n",
        "\n",
        "interest = amount * rate * term / 12\n",
        "print(f\"Процентная ставка: {rate}\")\n",
        "print(f\"Доход от вклада: {interest}\")"
      ],
      "metadata": {
        "colab": {
          "base_uri": "https://localhost:8080/"
        },
        "id": "ugzw5YgtBazX",
        "outputId": "8d2cc0b1-6a41-4e5a-b464-8e05efa8bb40"
      },
      "execution_count": null,
      "outputs": [
        {
          "output_type": "stream",
          "name": "stdout",
          "text": [
            "Введите сумму вклада: 30000\n",
            "Введите срок вклада в месяцах: 60\n",
            "Процентная ставка: 0.08\n",
            "Доход от вклада: 12000.0\n"
          ]
        }
      ]
    },
    {
      "cell_type": "markdown",
      "source": [
        "# **2. Проверка наличия денежных средств на счете.** [**Диаграмма**](https://drive.google.com/file/d/1HsfteByug8yj6n44Q5Ud5vE1Qee8793u/view?usp=sharing)"
      ],
      "metadata": {
        "id": "MgzO2nQhD5fq"
      }
    },
    {
      "cell_type": "code",
      "source": [
        "balance = float(input(\"Введите баланс счета: \"))\n",
        "withdrawal = float(input(\"Введите сумму, которую вы хотите снять: \"))\n",
        "\n",
        "if balance >= withdrawal:\n",
        "    balance -= withdrawal\n",
        "    print(f\"Снятие {withdrawal:.2f} руб. со счета. Остаток: {balance:.2f} руб.\")\n",
        "else:\n",
        "    print(\"Недостаточно средств на счете\")"
      ],
      "metadata": {
        "colab": {
          "base_uri": "https://localhost:8080/"
        },
        "id": "adqt6I4SBGYe",
        "outputId": "09933cc8-2f54-4459-a2de-0e6b97f6e737"
      },
      "execution_count": null,
      "outputs": [
        {
          "output_type": "stream",
          "name": "stdout",
          "text": [
            "Введите баланс счета: 600000\n",
            "Введите сумму, которую вы хотите снять: 50000\n",
            "Снятие 50000.00 руб. со счета. Остаток: 550000.00 руб.\n"
          ]
        }
      ]
    },
    {
      "cell_type": "markdown",
      "source": [
        "# **3. Расчет процентной ставки для вклада или кредита.**"
      ],
      "metadata": {
        "id": "0LXrz35zILbb"
      }
    },
    {
      "cell_type": "code",
      "source": [
        "amount = int(input(\"Введите сумму кредита: \"))\n",
        "term = int(input(\"Введите срок кредита в месяцах: \"))\n",
        "\n",
        "if amount < 10000 and term < 12:\n",
        "    rate = 0.05\n",
        "elif amount < 10000 and term >= 12:\n",
        "    rate = 0.06\n",
        "elif amount >= 10000 and term < 12:\n",
        "    rate = 0.07\n",
        "else:\n",
        "    rate = 0.08\n",
        "\n",
        "interest = amount * rate * term / 12\n",
        "print(f\"Процентная ставка: {rate}\")\n",
        "print(f\"Выплаты по кредиту: {interest}\")"
      ],
      "metadata": {
        "colab": {
          "base_uri": "https://localhost:8080/"
        },
        "id": "zm58vR_8IRIa",
        "outputId": "27d6f5e5-f455-40ab-8bdc-cd00453775f8"
      },
      "execution_count": null,
      "outputs": [
        {
          "output_type": "stream",
          "name": "stdout",
          "text": [
            "Введите сумму кредита: 70987\n",
            "Введите срок кредита в месяцах: 12\n",
            "Процентная ставка: 0.08\n",
            "Выплаты по кредиту: 5678.96\n"
          ]
        }
      ]
    },
    {
      "cell_type": "markdown",
      "source": [
        "# **4. Расчет ежемесячного платежа по кредиту.**"
      ],
      "metadata": {
        "id": "dwBaKhlXIZsy"
      }
    },
    {
      "cell_type": "code",
      "source": [
        "amount = int(input(\"Введите сумму кредита: \"))\n",
        "term = int(input(\"Введите срок кредита в месяцах: \"))\n",
        "interest = amount * rate * term / 12\n",
        "print(f\"Выплаты по кредиту: {interest}\")"
      ],
      "metadata": {
        "colab": {
          "base_uri": "https://localhost:8080/"
        },
        "id": "TYSwEV0MIfRb",
        "outputId": "b26ecf80-a960-4ac7-dead-57291704676f"
      },
      "execution_count": null,
      "outputs": [
        {
          "output_type": "stream",
          "name": "stdout",
          "text": [
            "Введите сумму кредита: 798899\n",
            "Введите срок кредита в месяцах: 25\n",
            "Выплаты по кредиту: 133149.83333333334\n"
          ]
        }
      ]
    },
    {
      "cell_type": "markdown",
      "source": [
        "# **5. Расчет доходности инвестиций.**"
      ],
      "metadata": {
        "id": "YPI39VilImNz"
      }
    },
    {
      "cell_type": "code",
      "source": [
        "amount=int(input(\"Введите сумму инвестиций: \"))\n",
        "term=int(input(\"Введите срок инвестиций в месяцах: \"))\n",
        "if amount< 10000 and term < 12:\n",
        "  rate= 0.05\n",
        "elif amount < 10000 and term >= 12:\n",
        "  rate=0.06\n",
        "elif amount >= 10000 and term < 12:\n",
        "  rate=0.07\n",
        "else:\n",
        "  rate=0.08\n",
        "interest= amount * rate * term/ 12\n",
        "print(f\"Процентная ставка инвестиций: {rate}\")\n",
        "print(f\"Доход от инвестиций: {interest}\")"
      ],
      "metadata": {
        "colab": {
          "base_uri": "https://localhost:8080/"
        },
        "id": "mawtH56zIsSy",
        "outputId": "4e6019bf-6750-4019-c416-d5a416b4ee0e"
      },
      "execution_count": null,
      "outputs": [
        {
          "output_type": "stream",
          "name": "stdout",
          "text": [
            "Введите сумму инвестиций: 5000000\n",
            "Введите срок инвестиций в месяцах: 60\n",
            "Процентная ставка инвестиций: 0.08\n",
            "Доход от инвестиций: 2000000.0\n"
          ]
        }
      ]
    }
  ]
}